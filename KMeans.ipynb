{
 "cells": [
  {
   "cell_type": "code",
   "execution_count": null,
   "id": "4c14b499-bd0f-4e6e-a367-91ff652d5b27",
   "metadata": {},
   "outputs": [],
   "source": [
    "import numpy as np\n",
    "import pandas as pd\n",
    "import matplotlib.pyplot as plt\n",
    "import seaborn as sns"
   ]
  },
  {
   "cell_type": "code",
   "execution_count": null,
   "id": "0053ea4f-599f-4127-ab4d-6b9f5c9ee2d1",
   "metadata": {},
   "outputs": [],
   "source": [
    "data = pd.read_csv('Iris.csv',index_col = 'Id')"
   ]
  },
  {
   "cell_type": "code",
   "execution_count": null,
   "id": "780a7015-23bf-4d31-9f2c-68995030896f",
   "metadata": {},
   "outputs": [],
   "source": [
    "data"
   ]
  },
  {
   "cell_type": "code",
   "execution_count": null,
   "id": "ffed0e29-52fd-4d74-bfdc-b0704663d59e",
   "metadata": {},
   "outputs": [],
   "source": [
    "x = data.drop('Species',axis=1)\n",
    "y = data.Species"
   ]
  },
  {
   "cell_type": "code",
   "execution_count": null,
   "id": "2ce063ef-0679-4bd9-9af2-dfa2f0611bed",
   "metadata": {},
   "outputs": [],
   "source": [
    "from sklearn.cluster import KMeans"
   ]
  },
  {
   "cell_type": "code",
   "execution_count": null,
   "id": "566a1244-d000-4070-9e18-cb83ec277d0f",
   "metadata": {},
   "outputs": [],
   "source": [
    "model = KMeans(n_clusters=3,random_state=42)\n",
    "model.fit(x)"
   ]
  },
  {
   "cell_type": "code",
   "execution_count": null,
   "id": "a5e5deaf-2b1f-462b-8f31-d91205152187",
   "metadata": {},
   "outputs": [],
   "source": [
    "model.labels_"
   ]
  },
  {
   "cell_type": "code",
   "execution_count": null,
   "id": "edb74e6b-8a02-4c20-ba70-7eebed6a14ce",
   "metadata": {},
   "outputs": [],
   "source": [
    "x1 = pd.DataFrame()\n",
    "x1[0] = model.labels_\n",
    "x1[1] = y.values\n",
    "x1.rename(columns={0: \"KMeans\"}, inplace=True)\n",
    "x1.rename(columns={1: \"Actual\"}, inplace=True)\n",
    "pd.set_option('display.max_rows',None)\n",
    "x1"
   ]
  },
  {
   "cell_type": "code",
   "execution_count": null,
   "id": "c2565293-5414-41aa-accb-3356d417b401",
   "metadata": {},
   "outputs": [],
   "source": [
    "model.cluster_centers_"
   ]
  },
  {
   "cell_type": "code",
   "execution_count": null,
   "id": "5b207490-b357-4f4c-92a9-87adc9ad9852",
   "metadata": {},
   "outputs": [],
   "source": [
    "wcss = model.inertia_\n",
    "wcss"
   ]
  },
  {
   "cell_type": "code",
   "execution_count": null,
   "id": "bbbf12fe-c6a3-4743-98a9-e50c1601cc1f",
   "metadata": {},
   "outputs": [],
   "source": [
    "#Demonstrating Elbow technique to find the right k\n",
    "wcss1 = []\n",
    "x_list = []\n",
    "for i in range(1,10):\n",
    "    model = KMeans(n_clusters=i,random_state=42)\n",
    "    model.fit(x)\n",
    "    wcss1.append(model.inertia_)\n",
    "    x_list.append(i)"
   ]
  },
  {
   "cell_type": "code",
   "execution_count": null,
   "id": "f7f46059-7b0e-4450-9115-08c7d2bba293",
   "metadata": {},
   "outputs": [],
   "source": [
    "wcss1"
   ]
  },
  {
   "cell_type": "code",
   "execution_count": null,
   "id": "3f31bba8-f4d8-43a8-8cdd-bd7a71865551",
   "metadata": {},
   "outputs": [],
   "source": [
    "plt.plot(x_list,wcss1)"
   ]
  },
  {
   "cell_type": "code",
   "execution_count": null,
   "id": "d921cc27-08d4-4fce-ae85-1ee3c0f72e24",
   "metadata": {},
   "outputs": [],
   "source": [
    "from sklearn.metrics import silhouette_score\n",
    "ss = silhouette_score(x,model.labels_)\n",
    "ss"
   ]
  },
  {
   "cell_type": "code",
   "execution_count": null,
   "id": "14e964e2-31f5-47a1-8392-f28a08b18268",
   "metadata": {},
   "outputs": [],
   "source": [
    "sns.scatterplot(x=data.SepalLengthCm,y=data.SepalWidthCm,data=data,hue=data.Species)"
   ]
  },
  {
   "cell_type": "code",
   "execution_count": null,
   "id": "70322789-1930-4813-b8f2-48329a04d7bc",
   "metadata": {},
   "outputs": [],
   "source": []
  }
 ],
 "metadata": {
  "kernelspec": {
   "display_name": "Python 3 (ipykernel)",
   "language": "python",
   "name": "python3"
  },
  "language_info": {
   "codemirror_mode": {
    "name": "ipython",
    "version": 3
   },
   "file_extension": ".py",
   "mimetype": "text/x-python",
   "name": "python",
   "nbconvert_exporter": "python",
   "pygments_lexer": "ipython3",
   "version": "3.12.4"
  }
 },
 "nbformat": 4,
 "nbformat_minor": 5
}
